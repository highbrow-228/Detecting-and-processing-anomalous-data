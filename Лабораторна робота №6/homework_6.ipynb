{
 "cells": [
  {
   "cell_type": "markdown",
   "metadata": {},
   "source": [
    "# Вступ\n",
    "\n",
    "В темі 6 *Виявлення аномалій в даних великої розмірності* ми дізналися, що дані великої розмірності створюють додаткові ускладнення для виявлення аномалій («прокляття розмірності»). Ми також обговорили два підходи до виявлення аномалій у високих вимірах: метод підпростору з пакетуванням ознак і ізольованими лісами.\n",
    "\n",
    "Тут буде використано як метод підпростору, так і ізоляційні ліси для виявлення аномалій у багатовимірних змодельованих наборах даних.\n",
    "\n",
    "\n",
    "# Результати навчання\n",
    "\n",
    "Ви повинні мати:\n",
    "1. Розуміння проблем виявлення аномалій за допомогою даних великої розмірності\n",
    "2. Деякий практичний досвід використання методу підпростору та пакетування ознак\n",
    "3. Деякий практичний досвід роботи із ізольованими лісами\n",
    "\n",
    "# Імпорт"
   ]
  },
  {
   "cell_type": "code",
   "execution_count": 1,
   "metadata": {},
   "outputs": [],
   "source": [
    "%matplotlib inline\n",
    "import warnings\n",
    "warnings.filterwarnings('ignore', category=FutureWarning)\n",
    "import sys\n",
    "import datetime\n",
    "import scipy\n",
    "import scipy.stats as ss\n",
    "import numpy as np\n",
    "import matplotlib\n",
    "import matplotlib.pyplot as plt\n",
    "import pandas as pd\n",
    "import random\n",
    "from sklearn.neighbors import LocalOutlierFactor\n",
    "from sklearn.metrics import confusion_matrix, accuracy_score\n",
    "from sklearn.ensemble import IsolationForest"
   ]
  },
  {
   "cell_type": "markdown",
   "metadata": {},
   "source": [
    "---"
   ]
  },
  {
   "cell_type": "markdown",
   "metadata": {},
   "source": [
    "# Розділ 1: Метод підпростору з пакетуванням ознак\n",
    "\n",
    "У цьому розділі ми збираємося використовувати змодельовані дані, щоб проілюструвати метод підпростору з пакетуванням функцій.\n",
    "\n",
    "Наш підхід ґрунтуватиметься на ранній публікації щодо виявлення аномалій за допомогою методу підпростору з пакетуванням ознак (A. Lazarevic і V. Kumar. Feature Bagging for Outlier Detection. Конференція ACM KDD, 2005). Це є\n",
    "доступно тут: https://www.researchgate.net/profile/Vipin-Kumar-54/publication/221653185_Feature_bagging_for_outlier_detection/links/0deec517946e6823b2000000/Feature-bagging-for-outlier-detection.pdf?_tp=eyJjb250ZXh0Ijp7ImZpcnN0UGFnZSI6InB1YmxpY2F0aW9uIiwicGFnZSI6InB1YmxpY2F0aW9uIn19\n",
    "\n",
    "Ми будемо діяти наступним чином:\n",
    "\n",
    "1. Створіть змодельовані дані\n",
    "2. Виконайте виявлення аномалії за допомогою методу subspace/feature bagging\n",
    "3. Оцініть результати\n",
    "4. Проаналізуйте результат за допомогою матриці помилок"
   ]
  },
  {
   "cell_type": "markdown",
   "metadata": {},
   "source": [
    "### Data"
   ]
  },
  {
   "cell_type": "markdown",
   "metadata": {},
   "source": [
    "Ми починаємо зі створення даних, які будуть комбінацією нормальних точок і аномалій для загальної кількості 5100 точок. 5000 нормальних точок генеруються з 5D-розподілу Гауса, де ми вказуємо середнє значення в кожному вимірі, а також коваріаційну матрицю. Аномалії — це 100 точок, які знаходяться далеко від нормальних точок у тому самому 5D-просторі (відповідні особливості). Щоб дослідити вплив пакетування функцій, до всіх точок даних додається додатковий 5D шум (нерелевантні функції)."
   ]
  },
  {
   "cell_type": "markdown",
   "metadata": {},
   "source": [
    "Спочатку ми згенеруємо 5000 звичайних точок даних"
   ]
  },
  {
   "cell_type": "code",
   "execution_count": 2,
   "metadata": {},
   "outputs": [],
   "source": [
    "np.random.seed(20) # зафіксувати для відтворюваності\n",
    "\n",
    "# генерувати звичайні дані, використовуючи кількість точок,\n",
    "# кількість відповідних ознак, середнє та стандартне відхилення\n",
    "norm_pts = 5000\n",
    "norm_dim = 5\n",
    "norm_mean = 0.0\n",
    "norm_stdev = 0.5\n",
    "norm_data = np.random.normal(norm_mean, norm_stdev,\n",
    "                             (norm_pts, norm_dim))\n",
    "\n",
    "#Примітка:\n",
    "#\n",
    "# Не плутайте два  слова «normal»\n",
    "# «normal» у np.random.multivariate_normal стосується\n",
    "# до розподілу Гаусса і взагалі не пов’язаний\n",
    "# до норми відносно аномалії"
   ]
  },
  {
   "cell_type": "markdown",
   "metadata": {},
   "source": [
    "Далі ми генеруємо аномальні дані. Ми зробимо це в два кроки:\n",
    "\n",
    "A. Створіть гаусівський розподіл точок\n",
    "\n",
    "B. Перетворіть цей розподіл у кільце навколо нормальних точок."
   ]
  },
  {
   "cell_type": "code",
   "execution_count": 3,
   "metadata": {},
   "outputs": [],
   "source": [
    "# Створіть розподіл Гауса для попередніх даних про аномалії\n",
    "# використовуючи кількість точок, кількість відповідних ознак,\n",
    "# середнє та стандартне відхилення\n",
    "anom_pts = 100\n",
    "anom_dim = 5\n",
    "anom_mean = 0.0\n",
    "anom_stdev = 0.5\n",
    "anom_data_prelim = np.random.normal(anom_mean, anom_stdev,\n",
    "                             (anom_pts, anom_dim))"
   ]
  },
  {
   "cell_type": "code",
   "execution_count": 4,
   "metadata": {},
   "outputs": [],
   "source": [
    "# Перетворення в кільцевий розподіл для остаточних даних аномалії\n",
    "def transform_to_ring(data, radius, spread):\n",
    "    \"\"\"\n",
    "    Перетворює надані дані в кільцевий розподіл.\n",
    "     ---\n",
    "     Inputs: дані (дані для перетворення, np.array),\n",
    "     radius (радіус кільця, float)\n",
    "     spread (розкид даних про радіус, float)\n",
    "     Outputs: перетворені дані (np.array)\n",
    "    \"\"\"\n",
    "    transformed_data_list = []\n",
    "    for item in data:\n",
    "        z = np.array(item) # у випадку, якщо дані надаються у вигляді списку\n",
    "        transformed_data_list.append(z*spread\n",
    "                                     + radius*z / np.linalg.norm(z))\n",
    "        transformed_data = np.array(transformed_data_list)\n",
    "    return transformed_data\n",
    "\n"
   ]
  },
  {
   "cell_type": "code",
   "execution_count": 5,
   "metadata": {},
   "outputs": [],
   "source": [
    "anom_data = transform_to_ring(anom_data_prelim, 2.0, 1.0)"
   ]
  },
  {
   "cell_type": "markdown",
   "metadata": {},
   "source": [
    "Побудуйте графік даних, (нормальний і аномальний)"
   ]
  },
  {
   "cell_type": "code",
   "execution_count": 6,
   "metadata": {},
   "outputs": [
    {
     "data": {
      "image/png": "[encoded data removed]",
      "text/plain": [
       "<Figure size 600x400 with 1 Axes>"
      ]
     },
     "metadata": {},
     "output_type": "display_data"
    }
   ],
   "source": [
    "fig = plt.figure(figsize=(6,4))\n",
    "ax1 = fig.add_subplot(111)\n",
    "\n",
    "ax1.scatter(norm_data[:,0], norm_data[:,1], s=30, c='b', marker=\"o\",\n",
    "            label='normal')\n",
    "ax1.scatter(anom_data[:,0], anom_data[:,1], s=30, c='r', marker=\"o\",\n",
    "            label='anomaly')\n",
    "plt.legend(loc='best');\n",
    "plt.xlabel('x', fontsize=12)\n",
    "plt.ylabel('y', fontsize=12)\n",
    "plt.show()"
   ]
  },
  {
   "cell_type": "markdown",
   "metadata": {},
   "source": [
    "Оскільки ми будуємо 5D-розподіл у 2D, важко побачити кільцеву природу даних аномалії."
   ]
  },
  {
   "cell_type": "markdown",
   "metadata": {},
   "source": [
    "**Питання**: як ми можемо швидко перевірити, чи працює наше кільцеве перетворення?"
   ]
  },
  {
   "cell_type": "markdown",
   "metadata": {},
   "source": [
    "**Відповідь**: подивіться на аномалії у 2D. Встановіть параметр *anom_dim* на 2 і дослідіть, що відбувається, коли ви змінюєте *radius* і *spread*."
   ]
  },
  {
   "cell_type": "code",
   "execution_count": 7,
   "metadata": {},
   "outputs": [
    {
     "data": {
      "text/plain": [
       "(5100, 5)"
      ]
     },
     "execution_count": 7,
     "metadata": {},
     "output_type": "execute_result"
    }
   ],
   "source": [
    "# Об’єднайте дані в один масив для подальшого використання\n",
    "combined_data = np.concatenate((norm_data, anom_data), axis=0)\n",
    "combined_data.shape"
   ]
  },
  {
   "cell_type": "code",
   "execution_count": 8,
   "metadata": {},
   "outputs": [],
   "source": [
    "# Створення шуму для нормальних даних (1) і аномалій (2)\n",
    "# використання ряду невідповідних функцій,\n",
    "# середнє та стандартне відхилення\n",
    "noise_dim = 5\n",
    "noise_mean = 0\n",
    "noise_stdev = 4\n",
    "noise_norm = np.random.normal(noise_mean, noise_stdev,\n",
    "                                    (norm_pts, noise_dim))\n",
    "noise_anom = np.random.normal(noise_mean, noise_stdev,\n",
    "                                    (anom_pts, noise_dim )) #створюємо шум\n"
   ]
  },
  {
   "cell_type": "code",
   "execution_count": 9,
   "metadata": {},
   "outputs": [],
   "source": [
    "# Додати шум до нормальних даних і аномалій\n",
    "# для створення повних даних (усі ознаки)\n",
    "norm_data_full = np.concatenate((norm_data, noise_norm), axis=1)\n",
    "anom_data_full = np.concatenate((anom_data, noise_anom), axis=1)"
   ]
  },
  {
   "cell_type": "code",
   "execution_count": 10,
   "metadata": {},
   "outputs": [],
   "source": [
    "# Агрегувати нормальні дані та аномалії для подальшого використання\n",
    "all_data = np.concatenate((norm_data_full, anom_data_full), axis=0)"
   ]
  },
  {
   "cell_type": "markdown",
   "metadata": {},
   "source": [
    "### Виявлення аномалій із пакетуванням ознак"
   ]
  },
  {
   "cell_type": "markdown",
   "metadata": {},
   "source": [
    "Нагадування про те, як пакетування ознак працює в розмірах $d$:\n",
    "    \n",
    "1. Навмання виберіть ціле число $m$ від $\\lfloor{d/2}\\rfloor$ до $d-1$\n",
    "2. Для кожної ітерації вибирайте $m$ ознак випадковим чином без заміни з повного набору даних, створюючи $m$-вимірну підмножину\n",
    "3. Застосуйте алгоритм виявлення аномалії до підмножини, щоб оцінити кожну точку даних\n",
    "4. Об’єднайте оцінки з різних ітерацій, щоб отримати загальний результат для кожної точки\n"
   ]
  },
  {
   "cell_type": "markdown",
   "metadata": {},
   "source": [
    "Почніть із визначення функції для виконання кроків 1 і 2."
   ]
  },
  {
   "cell_type": "code",
   "execution_count": 11,
   "metadata": {},
   "outputs": [],
   "source": [
    "def feature_bagging(data):\n",
    "    \"\"\"\n",
    "    Вибирає дані підпростору за допомогою пакетування ознак.\n",
    "\n",
    "     Args:\n",
    "         data: повні дані для вибірки (np.array)\n",
    "\n",
    "     Returns:\n",
    "         subspace_data: дані підпростору (np.array)\n",
    "    \"\"\"\n",
    "    # Знайдіть розмір повного простору\n",
    "    full_dim = data.shape[1]\n",
    "    # виберіть розмір підпростору\n",
    "    size_subspace = np.random.randint(full_dim // 2, full_dim - 1)\n",
    "    # вибрати ознаки без заміни\n",
    "    subspace_index = np.random.choice(full_dim, size_subspace,\n",
    "                                      replace=False) # дає масив індексів без повторень\n",
    "\n",
    "    # вибрати дані підпростору\n",
    "    # Спочатку обознаки  являють собою стовпці даних\n",
    "    # Транспонувати, щоб вибрати ознаки у вигляді рядків (простіше)\n",
    "    # а потім перенести назад, щоб відновити ознаки у вигляді стовпців\n",
    "    subspace_data = (data.T[sorted(subspace_index),:]).T\n",
    "    return subspace_data"
   ]
  },
  {
   "cell_type": "markdown",
   "metadata": {},
   "source": [
    "Виконайте виявлення аномалії на даних підпростору (крок 3). Ми будемо використовувати підхід локального викиду (LOF), який обговорювався в темі 5. LOF також використовувався Лазаревичем і Кумаром, оскільки він повертає відповідним чином нормалізовані оцінки, які враховують підпростори ознак різних вимірів.\n",
    "\n",
    "Щоб об’єднати оцінки з кожної ітерації (крок 4), ми використаємо підхід кумулятивної суми (див. тему 5)."
   ]
  },
  {
   "cell_type": "code",
   "execution_count": 12,
   "metadata": {},
   "outputs": [],
   "source": [
    "def anomaly_subspace_method(data, repeat):\n",
    "    \"\"\"\n",
    "    Виконує виявлення аномалій за допомогою пакетування ознак.\n",
    "     Використовує локальний фактор викиду (LOF) для виявлення аномалії.\n",
    "     Використовує кумулятивний підхід для об’єднання результатів виявлення аномалій.\n",
    "     з кожної ітерації\n",
    "\n",
    "    Args:\n",
    "        data: повні дані для вибірки (np.array)\n",
    "        repeat: кількість ітерацій для пакетування функцій (int)\n",
    "     Returns:\n",
    "        final_scores: оцінки аномалії кожної точки в даних (list)\n",
    "    \"\"\"\n",
    "    final_scores = np.zeros(len(data))\n",
    "    for i in range(repeat):\n",
    "        subspace_data = feature_bagging(data)\n",
    "        clf = LocalOutlierFactor(n_neighbors=20, metric='manhattan')\n",
    "        y_pred = clf.fit_predict(subspace_data)\n",
    "        X_scores = clf.negative_outlier_factor_\n",
    "        final_scores += X_scores\n",
    "    return final_scores\n"
   ]
  },
  {
   "cell_type": "markdown",
   "metadata": {},
   "source": [
    "**Примітка**. Ми використовуємо *negative_outlier_factor_* оцінку *sklearn*:\n",
    "\n",
    "Inliers, як правило, мають *negative_outlier_factor_* близький до -1.\n",
    "Викиди, як правило, мають велике від’ємне число.\n",
    "\n",
    "Дивіться також Лекцію 04 і http://scikit-learn.org/stable/modules/generated/sklearn.neighbors.LocalOutlierFactor.html"
   ]
  },
  {
   "cell_type": "markdown",
   "metadata": {},
   "source": [
    "Тепер настав час проаналізувати дані. Ми повторимо цю функцію 50 разів."
   ]
  },
  {
   "cell_type": "code",
   "execution_count": 13,
   "metadata": {},
   "outputs": [],
   "source": [
    "cumulative_scores = anomaly_subspace_method(all_data, 10)"
   ]
  },
  {
   "cell_type": "code",
   "execution_count": 14,
   "metadata": {},
   "outputs": [
    {
     "data": {
      "text/plain": [
       "(5100,)"
      ]
     },
     "execution_count": 14,
     "metadata": {},
     "output_type": "execute_result"
    }
   ],
   "source": [
    "cumulative_scores.shape"
   ]
  },
  {
   "cell_type": "markdown",
   "metadata": {},
   "source": [
    "We know that the first 5000 points are normal data and the next 100 are anomalies. Therefore we expect that the scores at the beginning of *cumulative_scores* should be less negative than those at the end."
   ]
  },
  {
   "cell_type": "code",
   "execution_count": 15,
   "metadata": {},
   "outputs": [
    {
     "name": "stdout",
     "output_type": "stream",
     "text": [
      "[-10.42822032 -10.11430337  -9.94264351  -9.97740891 -11.35658359\n",
      " -10.65692172 -10.59557416 -11.89593756 -10.3129885  -10.14233905\n",
      " -12.02322703 -10.52378682 -10.10541638 -10.96957967 -10.63905103\n",
      " -10.36021459  -9.92217649 -10.67933135 -10.98069907 -11.39922243]\n"
     ]
    }
   ],
   "source": [
    "print(cumulative_scores[0:20])"
   ]
  },
  {
   "cell_type": "code",
   "execution_count": 16,
   "metadata": {},
   "outputs": [
    {
     "name": "stdout",
     "output_type": "stream",
     "text": [
      "[-14.85215851 -14.21291428 -15.21692821 -15.68583487 -16.28738734\n",
      " -15.99495715 -16.38737843 -14.46308237 -14.99386485 -16.59273306\n",
      " -11.95628822 -15.18960334 -15.72579168 -14.53332571 -22.4328569\n",
      " -15.98863141 -14.32595071 -14.94775829 -15.18901059 -14.30024492]\n"
     ]
    }
   ],
   "source": [
    "print(cumulative_scores[5080:5100]) #більш негативні оцінки - це аномалії"
   ]
  },
  {
   "cell_type": "markdown",
   "metadata": {},
   "source": [
    "Виглядає розумно, але з такою кількістю точок даних ми повинні вийти за рамки простих перевірок і провести деякий статистичний аналіз."
   ]
  },
  {
   "cell_type": "markdown",
   "metadata": {},
   "source": [
    "Оскільки передбачені аномалії матимуть найнижчі оцінки, то ми сортуємо оцінки від низької до високої та повертаємо індекс кожної відповідної точки даних."
   ]
  },
  {
   "cell_type": "code",
   "execution_count": 17,
   "metadata": {},
   "outputs": [],
   "source": [
    "ranking_by_index = np.argsort(cumulative_scores)"
   ]
  },
  {
   "cell_type": "markdown",
   "metadata": {},
   "source": [
    "Знову ж таки, давайте швидко перевіримо."
   ]
  },
  {
   "cell_type": "code",
   "execution_count": 18,
   "metadata": {},
   "outputs": [
    {
     "name": "stdout",
     "output_type": "stream",
     "text": [
      "[5094 5028 5067 5079 5052 5054 5062 5077 5050 5089 5006 5020 1128 5009\n",
      " 5053 5086 5084 5048 5016 5042]\n"
     ]
    }
   ],
   "source": [
    "print(ranking_by_index[0:20]) #індекси з найбільши відємними оцінками"
   ]
  },
  {
   "cell_type": "markdown",
   "metadata": {},
   "source": [
    "Більшість із 20 точок із найнижчими оцінками мають індекси 5000 і більше."
   ]
  },
  {
   "cell_type": "markdown",
   "metadata": {},
   "source": [
    "Щоб створити матрицю помилок, ми створимо два масиви: один із справжніми мітками для кожної точки, а інший із передбаченими мітками. Ми будемо використовувати 1 для аномалій і 0 для нормальних точок."
   ]
  },
  {
   "cell_type": "code",
   "execution_count": 19,
   "metadata": {},
   "outputs": [],
   "source": [
    "# Створення міток на основі відомих даних\n",
    "# Ми знаємо, що перші *norm_pts* є нормальними даними (0)\n",
    "# і наступні *anom_pts* є аномаліями (1)\n",
    "label_true = [0]*norm_pts\n",
    "for i in range(anom_pts):\n",
    "        label_true.append(1)# Масив міток: перші 5000 з нулями, а решта 100 з одиницями\n"
   ]
  },
  {
   "cell_type": "markdown",
   "metadata": {},
   "source": [
    "Ми отримуємо передбачені мітки за допомогою *ranking_by_index*. Оскільки ми знаємо, що маємо 100 аномалій, ми позначимо перші 100 найнижчих показників як аномалії, а решту – як нормальні дані. (Щоб бути більш загальним, ми будемо використовувати параметр *anom_pts* замість числа)."
   ]
  },
  {
   "cell_type": "code",
   "execution_count": 20,
   "metadata": {},
   "outputs": [],
   "source": [
    "label_pred = [0]*len(all_data)\n",
    "for index, item in enumerate(ranking_by_index):\n",
    "    label_pred[item] = 1 #першим 100 присвоїти 1, бо вони впорядковані за спаданням оцінки і є аномаліями\n",
    "    if index == anom_pts:\n",
    "        # Ми зупиняємося, коли маємо мітки *anom_pts* точок\n",
    "        break"
   ]
  },
  {
   "cell_type": "markdown",
   "metadata": {},
   "source": [
    "Тепер, коли у нас є мітки, ми можемо побудувати матрицю помилок. Один із способів зробити це — датафрейми pandas."
   ]
  },
  {
   "cell_type": "code",
   "execution_count": 21,
   "metadata": {},
   "outputs": [
    {
     "data": {
      "text/html": [
       "<div>\n",
       "<style scoped>\n",
       "    .dataframe tbody tr th:only-of-type {\n",
       "        vertical-align: middle;\n",
       "    }\n",
       "\n",
       "    .dataframe tbody tr th {\n",
       "        vertical-align: top;\n",
       "    }\n",
       "\n",
       "    .dataframe thead th {\n",
       "        text-align: right;\n",
       "    }\n",
       "</style>\n",
       "<table border=\"1\" class=\"dataframe\">\n",
       "  <thead>\n",
       "    <tr style=\"text-align: right;\">\n",
       "      <th>Predicted</th>\n",
       "      <th>0</th>\n",
       "      <th>1</th>\n",
       "    </tr>\n",
       "    <tr>\n",
       "      <th>True</th>\n",
       "      <th></th>\n",
       "      <th></th>\n",
       "    </tr>\n",
       "  </thead>\n",
       "  <tbody>\n",
       "    <tr>\n",
       "      <th>0</th>\n",
       "      <td>4985</td>\n",
       "      <td>15</td>\n",
       "    </tr>\n",
       "    <tr>\n",
       "      <th>1</th>\n",
       "      <td>14</td>\n",
       "      <td>86</td>\n",
       "    </tr>\n",
       "  </tbody>\n",
       "</table>\n",
       "</div>"
      ],
      "text/plain": [
       "Predicted     0   1\n",
       "True               \n",
       "0          4985  15\n",
       "1            14  86"
      ]
     },
     "execution_count": 21,
     "metadata": {},
     "output_type": "execute_result"
    }
   ],
   "source": [
    "label_true_series = pd.Series(label_true, name='True')\n",
    "label_pred_series = pd.Series(label_pred, name='Predicted')\n",
    "df_confusion_matrix = pd.crosstab(label_true_series, label_pred_series)\n",
    "df_confusion_matrix"
   ]
  },
  {
   "cell_type": "markdown",
   "metadata": {},
   "source": [
    "Ми правильно знайшли 86 із 100 аномалій, а також знайшли 4985 із 5000 нормальних точок даних."
   ]
  },
  {
   "cell_type": "markdown",
   "metadata": {},
   "source": [
    "Крім того, ми можемо використовувати scikit-learn."
   ]
  },
  {
   "cell_type": "code",
   "execution_count": 22,
   "metadata": {},
   "outputs": [
    {
     "data": {
      "text/plain": [
       "array([[4985,   15],\n",
       "       [  14,   86]])"
      ]
     },
     "execution_count": 22,
     "metadata": {},
     "output_type": "execute_result"
    }
   ],
   "source": [
    "# Див. розділ «Імпорт» вище\n",
    "confusion_matrix(label_true, label_pred)"
   ]
  },
  {
   "cell_type": "markdown",
   "metadata": {},
   "source": [
    "Перевага scikit-learn полягає в тому, що він має багато корисних функцій для оцінки різних статистичних показників ефективності. Наприклад, ми можемо обчислити точність, яка є часткою справжніх результатів (істинно позитивних, і справді негативних) від загальної кількості проаналізованих точок."
   ]
  },
  {
   "cell_type": "code",
   "execution_count": 23,
   "metadata": {},
   "outputs": [
    {
     "data": {
      "text/plain": [
       "0.994313725490196"
      ]
     },
     "execution_count": 23,
     "metadata": {},
     "output_type": "execute_result"
    }
   ],
   "source": [
    "accuracy_score(label_true, label_pred)"
   ]
  },
  {
   "cell_type": "markdown",
   "metadata": {},
   "source": [
    "Для отримання додаткових інформації див. http://scikit-learn.org/stable/modules/model_evaluation.html#classification-metrics"
   ]
  },
  {
   "cell_type": "markdown",
   "metadata": {},
   "source": [
    "Схоже, ми створили чудовий детектор аномалій, але ми повинні пам’ятати, що ми мали значну допомогу: ми включили кількість аномалій (але не їх ідентичність) у процедуру оцінки. Якби ми не знали, скільки у нас аномалій, виявлення аномалій стало б складнішим.\n",
    "\n",
    "(І дивіться Тему 7 для обговорення обмежень точності як метрики для алгоритмів виявлення аномалій.)\n",
    "\n",
    "Крім того, було кілька параметрів, які ми повинні були вибрати: *повторити* для кількості разів для перенесення або функції упаковки; *n_neighbors* і *metric* для оцінки LOF. Існують емпіричні правила вибору цих параметрів, але часто потрібна дослідницька робота, щоб знайти відповідні значення для поточної проблеми."
   ]
  },
  {
   "cell_type": "markdown",
   "metadata": {},
   "source": [
    "# Розділ 2: Ізоляційні ліси\n"
   ]
  },
  {
   "cell_type": "markdown",
   "metadata": {},
   "source": [
    "У цьому розділі ми збираємося вивчити ізольовані ліси, використовуючи ті самі змодельовані дані, які ми аналізували за допомогою методу підпростору."
   ]
  },
  {
   "cell_type": "markdown",
   "metadata": {},
   "source": [
    "Ми будемо діяти так само, як і з методом підпростору:\n",
    "\n",
    "1. Створіть змодельовані дані — **уже зроблено**\n",
    "2. Виконайте виявлення аномалії за допомогою алгоритму ізольованого лісу\n",
    "3. Оцініть результати\n",
    "4. Проаналізуйте результат за допомогою матриці помилок"
   ]
  },
  {
   "cell_type": "markdown",
   "metadata": {},
   "source": [
    "### Виявлення аномалій за допомогою ізольованого лісу"
   ]
  },
  {
   "cell_type": "markdown",
   "metadata": {},
   "source": [
    "Нагадування про те, як працює ізоляційний ліс:\n",
    "\n",
    "\n",
    "<li> Це метод ансамблю: ізольований ліс — це комбінація ізольованих дерев.</li>\n",
    "\n",
    "<li> Щоб створити ізольоване дерево, об’єкт вибирається випадковим чином, а дані повторно розділяються за допомогою осепаралельних розрізів у випадково вибраних положеннях.</li>\n",
    "\n",
    "<li> Цей процес повторюється з метою розділити дані на вузли з дедалі меншою кількістю точок, доки не буде досягнуто єдиного вузла, що містить одну точку («лист» дерева).</li>\n",
    "\n",
    "<li> Ми очікуємо, що гілки дерева, які містять аномалії, будуть менш глибокими, ніж гілки звичайних точок, оскільки аномалії розташовані в розріджених областях.</li>\n",
    "\n",
    "<li>Отже, глибина гілки може бути використана для оцінки точки на листі. </li>\n",
    "    \n",
    "<li>Цей процес повторюється для попередньо визначеної кількості дерев, щоб обчислити середню оцінку аномалії.</li>\n",
    "\n",
    "<li>Потім ця остаточна оцінка порівнюється з пороговим значенням, щоб позначити точку як нормальний показник або аномалію.</li>\n",
    "\n",
    "\n",
    "Більш детальна інформація доступна в публікаціях оригінальних авторів цієї методики (F.L. Kai, M. Ting і Z.-H. Zhou):\n",
    "https://cs.nju.edu.cn/zhouzh/zhouzh.files/publication/tkdd11.pdf\n",
    " "
   ]
  },
  {
   "cell_type": "markdown",
   "metadata": {},
   "source": [
    "Ми будемо використовувати реалізацію ізольованого лісу sklearn, яка включає алгоритм виявлення, а також процедуру підрахунку оцінок (кроки 2 і 3 у процесі, описаному в попередньому підрозділі):\n",
    "\n",
    "http://scikit-learn.org/stable/modules/generated/sklearn.ensemble.IsolationForest.html\n",
    "\n",
    "Ця реалізація використовує іншу конвенцію оцінювання, ніж оригінальна публікація Кая, Тінга та Чжоу. У версії sklearn негативні оцінки представляють аномалії, позитивні – нормальні дані. (Для даної точки, чим негативніший результат, тим більшою є аномалія.)"
   ]
  },
  {
   "cell_type": "markdown",
   "metadata": {},
   "source": [
    "Існує кілька ключових параметрів для IsolationForest, алгоритму sklearn. Якщо доступний навчальний набір даних, цей набір даних можна використовувати для налаштування цих параметрів. У нашому випадку ми не маємо навчального набору даних, тому ми використовуватимемо розумні (за замовчуванням) значення, як описано нижче."
   ]
  },
  {
   "cell_type": "markdown",
   "metadata": {},
   "source": [
    "Спочатку давайте створимо наш ліс."
   ]
  },
  {
   "cell_type": "code",
   "execution_count": 24,
   "metadata": {},
   "outputs": [],
   "source": [
    "isolation_forest = IsolationForest(n_estimators=100, max_samples=256,\n",
    "                                   contamination=0.01961, max_features=10)"
   ]
  },
  {
   "cell_type": "markdown",
   "metadata": {},
   "source": [
    "Пояснення параметрів:\n",
    "    \n",
    "1. *n_estimators*: кількість ізольованих дерев у лісі. Значення за замовчуванням — 100.\n",
    "\n",
    "2. *max_samples*: це максимальна кількість точок, взятих для побудови кожного дерева. Sklearn пропонує кілька варіантів для цього параметра. Кай, Тін і Чжоу вважають, що 256 «загалом достатньо, щоб\n",
    "виконувати виявлення аномалій у широкому діапазоні даних\".\n",
    "\n",
    "3. *max_features*: кількість елементів, намальованих для побудови кожного дерева. Тут ми використовуємо повну розмірність нашого набору даних (10). Використання меншого значення призведе до створення пакетів ознак у дереві.\n",
    "\n",
    "4. *забруднення*: частка точок, які є аномаліями. Так само, як ми робили для методу підпростору, ми будемо використовувати це число для позначення аномалій. Надане число (*anom_pts*)/(*anom_pts* + *norm_pts*) = 100/5100."
   ]
  },
  {
   "cell_type": "markdown",
   "metadata": {},
   "source": [
    "Тепер, коли ми створили ліс, ми можемо підігнати наші дані та отримати оцінки точок. Щоб зробити це належним чином, ми повинні побудувати дерево з навчальним набором даних, а потім застосувати це дерево до тестових даних. Ви зробите це у вправі 2 нижче.\n",
    "\n",
    "Наразі ми скористаємося спрощеним підходом і підберемо дерево та отримати оцінки точок, використовуючи ті самі дані. Це невибагливий підхід до ізольованого лісу, який може призвести до упереджених результатів, але він забезпечує більш справедливе порівняння з методом підпростору (де немає поділу поїзд/тест)."
   ]
  },
  {
   "cell_type": "code",
   "execution_count": 25,
   "metadata": {},
   "outputs": [],
   "source": [
    "isolation_forest.fit(all_data)\n",
    "anomaly_score = isolation_forest.decision_function(all_data)"
   ]
  },
  {
   "cell_type": "markdown",
   "metadata": {},
   "source": [
    "Як і з методом підпростору, ми знаємо, що перші 5000 точок є нормальними даними, а наступні 100 – аномаліями. Таким чином, ми очікуємо, що оцінки на початку *anomaly_scores* мають бути позитивними, а наприкінці – негативними."
   ]
  },
  {
   "cell_type": "code",
   "execution_count": 26,
   "metadata": {},
   "outputs": [
    {
     "name": "stdout",
     "output_type": "stream",
     "text": [
      "[0.10735375 0.12133362 0.1301514  0.14338582 0.04792288 0.09559621\n",
      " 0.05899167 0.05914986 0.08257227 0.11723036 0.03874564 0.08471182\n",
      " 0.10655479 0.06857933 0.08208751 0.09561946 0.15434401 0.08015293\n",
      " 0.08243244 0.06645808]\n"
     ]
    }
   ],
   "source": [
    "print(anomaly_score[0:20])"
   ]
  },
  {
   "cell_type": "code",
   "execution_count": 27,
   "metadata": {},
   "outputs": [
    {
     "name": "stdout",
     "output_type": "stream",
     "text": [
      "[-0.04914545 -0.04655918 -0.02274752 -0.06293287 -0.07434275 -0.00712662\n",
      "  0.00478768  0.0076357   0.04715734 -0.06804756  0.04316677 -0.01748935\n",
      "  0.03398974  0.01248265 -0.11357263  0.00331218  0.03067255  0.00409005\n",
      "  0.02213045  0.05059864]\n"
     ]
    }
   ],
   "source": [
    "print(anomaly_score[5080:5100])"
   ]
  },
  {
   "cell_type": "markdown",
   "metadata": {},
   "source": [
    "Ми бачимо деякі позитивні оцінки в кінці, але було б багато чого просити, щоб наш ізольований ліс був ідеальним. Якими будуть останні 100 балів за прогнозом *IsolationForest*?\n",
    "\n",
    "**Примітка**: *IsolationForest* позначає аномалії -1, а нормальні точки - +1."
   ]
  },
  {
   "cell_type": "code",
   "execution_count": 28,
   "metadata": {},
   "outputs": [],
   "source": [
    "pred_forest = isolation_forest.predict(all_data)"
   ]
  },
  {
   "cell_type": "code",
   "execution_count": 29,
   "metadata": {},
   "outputs": [
    {
     "name": "stdout",
     "output_type": "stream",
     "text": [
      "[-1 -1  1  1 -1  1 -1 -1  1 -1 -1  1 -1 -1  1 -1 -1  1  1  1 -1 -1 -1 -1\n",
      " -1 -1 -1 -1 -1 -1 -1  1  1 -1 -1 -1  1  1 -1 -1  1  1 -1 -1 -1 -1  1  1\n",
      " -1 -1 -1 -1 -1  1  1 -1 -1 -1  1 -1 -1 -1 -1 -1 -1  1  1 -1 -1 -1  1 -1\n",
      "  1  1  1  1 -1 -1  1 -1 -1 -1 -1 -1 -1 -1  1  1  1 -1  1 -1  1  1 -1  1\n",
      "  1  1  1  1]\n"
     ]
    }
   ],
   "source": [
    "print(pred_forest[5000:5100])"
   ]
  },
  {
   "cell_type": "markdown",
   "metadata": {},
   "source": [
    "Добре, що в у більшості маємо -1, але нам слід підрахувати точну статистику. Щоб зробити чітке порівняння з результатами нашого підпросторового методу, ми перетворимо *pred_forest* на угоду про маркування, яку ми використовували раніше: аномалії дорівнюють +1, а нормальні точки даних дорівнюють 0."
   ]
  },
  {
   "cell_type": "code",
   "execution_count": 30,
   "metadata": {},
   "outputs": [],
   "source": [
    "label_pred_forest = pred_forest\n",
    "# normal data label switched from 1 to 0\n",
    "label_pred_forest [label_pred_forest > 0] = 0\n",
    "# anomaly label switched from -1 to 1\n",
    "label_pred_forest [label_pred_forest < 0] = 1"
   ]
  },
  {
   "cell_type": "code",
   "execution_count": 31,
   "metadata": {},
   "outputs": [
    {
     "data": {
      "text/plain": [
       "array([[4961,   39],\n",
       "       [  39,   61]])"
      ]
     },
     "execution_count": 31,
     "metadata": {},
     "output_type": "execute_result"
    }
   ],
   "source": [
    "confusion_matrix(label_true, label_pred_forest)"
   ]
  },
  {
   "cell_type": "code",
   "execution_count": 32,
   "metadata": {},
   "outputs": [
    {
     "data": {
      "text/plain": [
       "0.9847058823529412"
      ]
     },
     "execution_count": 32,
     "metadata": {},
     "output_type": "execute_result"
    }
   ],
   "source": [
    "accuracy_score(label_true, label_pred_forest)"
   ]
  },
  {
   "cell_type": "markdown",
   "metadata": {},
   "source": [
    "Коли ми дивимося на матрицю помилок, ми бачимо, що вона має менше справжніх позитивних результатів, ніж метод підпростору. Тим не менш, це популярний метод через свою швидкість (низька складність обчислень)."
   ]
  },
  {
   "cell_type": "markdown",
   "metadata": {},
   "source": [
    "### Вправа №1\n",
    "\n",
    "Ця вправа відноситься до Розділу 1 (метод підпростору з пакетуванням ознак).\n",
    "\n",
    "Ми збираємося проаналізувати дані без будь-якого пакетування функцій і перевірити, чи правильне твердження, яке ми зробили на лекціях: пакетування функцій покращує виявлення аномалій\n",
    "\n",
    "A. Змініть *anomaly_subspace_method*, щоб здійснювати виявлення аномалій на повних даних без будь-якого пакетування функцій.\n",
    "\n",
    "B. Визначити матрицю помилок.\n",
    "\n",
    "C. Як результати порівнюються з методом підпростору?\n"
   ]
  },
  {
   "cell_type": "markdown",
   "metadata": {},
   "source": [
    "### Рішення #1"
   ]
  },
  {
   "cell_type": "code",
   "execution_count": 33,
   "metadata": {},
   "outputs": [],
   "source": [
    "def anomaly_subspace_method2(data):\n",
    "    clf = LocalOutlierFactor(n_neighbors=20, metric='manhattan')\n",
    "    y_pred = clf.fit_predict(data)\n",
    "    scores = clf.negative_outlier_factor_\n",
    "    return scores"
   ]
  },
  {
   "cell_type": "code",
   "execution_count": 34,
   "metadata": {},
   "outputs": [],
   "source": [
    "# Отримати оцінки без пакетування\n",
    "scores_no_bagging = anomaly_subspace_method2(all_data)\n",
    "\n",
    "# Впорядкувати індекси за зменшенням \"аномальності\" (тобто по зростанню оцінки)\n",
    "ranking_by_index2 = np.argsort(scores_no_bagging)"
   ]
  },
  {
   "cell_type": "code",
   "execution_count": 35,
   "metadata": {},
   "outputs": [],
   "source": [
    "# Призначити мітки (1 для top-100 найанормальніших)\n",
    "label_pred2 = [0]*len(all_data)\n",
    "for index, item in enumerate(ranking_by_index2):\n",
    "    label_pred2[item] = 1\n",
    "    if index == anom_pts:\n",
    "        break"
   ]
  },
  {
   "cell_type": "code",
   "execution_count": 36,
   "metadata": {},
   "outputs": [
    {
     "data": {
      "text/html": [
       "<div>\n",
       "<style scoped>\n",
       "    .dataframe tbody tr th:only-of-type {\n",
       "        vertical-align: middle;\n",
       "    }\n",
       "\n",
       "    .dataframe tbody tr th {\n",
       "        vertical-align: top;\n",
       "    }\n",
       "\n",
       "    .dataframe thead th {\n",
       "        text-align: right;\n",
       "    }\n",
       "</style>\n",
       "<table border=\"1\" class=\"dataframe\">\n",
       "  <thead>\n",
       "    <tr style=\"text-align: right;\">\n",
       "      <th>Predicted</th>\n",
       "      <th>0</th>\n",
       "      <th>1</th>\n",
       "    </tr>\n",
       "    <tr>\n",
       "      <th>True</th>\n",
       "      <th></th>\n",
       "      <th></th>\n",
       "    </tr>\n",
       "  </thead>\n",
       "  <tbody>\n",
       "    <tr>\n",
       "      <th>0</th>\n",
       "      <td>4929</td>\n",
       "      <td>71</td>\n",
       "    </tr>\n",
       "    <tr>\n",
       "      <th>1</th>\n",
       "      <td>70</td>\n",
       "      <td>30</td>\n",
       "    </tr>\n",
       "  </tbody>\n",
       "</table>\n",
       "</div>"
      ],
      "text/plain": [
       "Predicted     0   1\n",
       "True               \n",
       "0          4929  71\n",
       "1            70  30"
      ]
     },
     "execution_count": 36,
     "metadata": {},
     "output_type": "execute_result"
    }
   ],
   "source": [
    "# Матриця помилок та точність\n",
    "df_confusion_matrix2 = pd.crosstab(\n",
    "    pd.Series(label_true, name='True'),\n",
    "    pd.Series(label_pred2, name='Predicted')\n",
    ")\n",
    "\n",
    "df_confusion_matrix2"
   ]
  },
  {
   "cell_type": "code",
   "execution_count": 37,
   "metadata": {},
   "outputs": [
    {
     "data": {
      "text/plain": [
       "array([[4929,   71],\n",
       "       [  70,   30]])"
      ]
     },
     "execution_count": 37,
     "metadata": {},
     "output_type": "execute_result"
    }
   ],
   "source": [
    "confusion_matrix(label_true, label_pred2)"
   ]
  },
  {
   "cell_type": "code",
   "execution_count": 38,
   "metadata": {},
   "outputs": [
    {
     "data": {
      "text/plain": [
       "0.9723529411764706"
      ]
     },
     "execution_count": 38,
     "metadata": {},
     "output_type": "execute_result"
    }
   ],
   "source": [
    "accuracy_score(label_true, label_pred2)"
   ]
  },
  {
   "cell_type": "markdown",
   "metadata": {},
   "source": [
    "### Вправа №2\n",
    "\n",
    "Ця вправа відноситься до розділу 2 (ізоляційні ліси).\n",
    "\n",
    "A. Створіть навчальний набір даних. Він має мати ті самі функції, що й *all_data*, за винятком того, що він має відрізнятися від точок і мати одну п’яту розміру (20 аномалій і 1000 нормальних точок).\n",
    "\n",
    "\n",
    "B. Навчіть ізольований ліс на цьому наборі даних, а потім протестуйте навчений ліс на *all_data*.\n",
    "\n",
    "C. Порівняйте результати для матриці помилок з тими, які ви отримали без поділу на test/train. Обговоріть будь-які відмінності.\n"
   ]
  },
  {
   "cell_type": "markdown",
   "metadata": {},
   "source": [
    "### Рішення #2"
   ]
  },
  {
   "cell_type": "code",
   "execution_count": 39,
   "metadata": {},
   "outputs": [],
   "source": [
    "from sklearn.model_selection import train_test_split\n",
    "from sklearn.ensemble import IsolationForest\n",
    "from sklearn.metrics import confusion_matrix, accuracy_score\n",
    "import numpy as np\n",
    "\n",
    "norm_train, _ = train_test_split(norm_data_full, train_size=1000, random_state=42)\n",
    "anom_train, _ = train_test_split(anom_data_full, train_size=20, random_state=42)\n",
    "\n",
    "all_data_train = np.concatenate((norm_train, anom_train), axis=0)"
   ]
  },
  {
   "cell_type": "code",
   "execution_count": 40,
   "metadata": {},
   "outputs": [
    {
     "data": {
      "text/plain": [
       "(1020, 10)"
      ]
     },
     "execution_count": 40,
     "metadata": {},
     "output_type": "execute_result"
    }
   ],
   "source": [
    "all_data_train.shape"
   ]
  },
  {
   "cell_type": "code",
   "execution_count": 41,
   "metadata": {},
   "outputs": [
    {
     "data": {
      "text/html": [
       "<style>#sk-container-id-1 {\n",
       "  /* Definition of color scheme common for light and dark mode */\n",
       "  --sklearn-color-text: #000;\n",
       "  --sklearn-color-text-muted: #666;\n",
       "  --sklearn-color-line: gray;\n",
       "  /* Definition of color scheme for unfitted estimators */\n",
       "  --sklearn-color-unfitted-level-0: #fff5e6;\n",
       "  --sklearn-color-unfitted-level-1: #f6e4d2;\n",
       "  --sklearn-color-unfitted-level-2: #ffe0b3;\n",
       "  --sklearn-color-unfitted-level-3: chocolate;\n",
       "  /* Definition of color scheme for fitted estimators */\n",
       "  --sklearn-color-fitted-level-0: #f0f8ff;\n",
       "  --sklearn-color-fitted-level-1: #d4ebff;\n",
       "  --sklearn-color-fitted-level-2: #b3dbfd;\n",
       "  --sklearn-color-fitted-level-3: cornflowerblue;\n",
       "\n",
       "  /* Specific color for light theme */\n",
       "  --sklearn-color-text-on-default-background: var(--sg-text-color, var(--theme-code-foreground, var(--jp-content-font-color1, black)));\n",
       "  --sklearn-color-background: var(--sg-background-color, var(--theme-background, var(--jp-layout-color0, white)));\n",
       "  --sklearn-color-border-box: var(--sg-text-color, var(--theme-code-foreground, var(--jp-content-font-color1, black)));\n",
       "  --sklearn-color-icon: #696969;\n",
       "\n",
       "  @media (prefers-color-scheme: dark) {\n",
       "    /* Redefinition of color scheme for dark theme */\n",
       "    --sklearn-color-text-on-default-background: var(--sg-text-color, var(--theme-code-foreground, var(--jp-content-font-color1, white)));\n",
       "    --sklearn-color-background: var(--sg-background-color, var(--theme-background, var(--jp-layout-color0, #111)));\n",
       "    --sklearn-color-border-box: var(--sg-text-color, var(--theme-code-foreground, var(--jp-content-font-color1, white)));\n",
       "    --sklearn-color-icon: #878787;\n",
       "  }\n",
       "}\n",
       "\n",
       "#sk-container-id-1 {\n",
       "  color: var(--sklearn-color-text);\n",
       "}\n",
       "\n",
       "#sk-container-id-1 pre {\n",
       "  padding: 0;\n",
       "}\n",
       "\n",
       "#sk-container-id-1 input.sk-hidden--visually {\n",
       "  border: 0;\n",
       "  clip: rect(1px 1px 1px 1px);\n",
       "  clip: rect(1px, 1px, 1px, 1px);\n",
       "  height: 1px;\n",
       "  margin: -1px;\n",
       "  overflow: hidden;\n",
       "  padding: 0;\n",
       "  position: absolute;\n",
       "  width: 1px;\n",
       "}\n",
       "\n",
       "#sk-container-id-1 div.sk-dashed-wrapped {\n",
       "  border: 1px dashed var(--sklearn-color-line);\n",
       "  margin: 0 0.4em 0.5em 0.4em;\n",
       "  box-sizing: border-box;\n",
       "  padding-bottom: 0.4em;\n",
       "  background-color: var(--sklearn-color-background);\n",
       "}\n",
       "\n",
       "#sk-container-id-1 div.sk-container {\n",
       "  /* jupyter's `normalize.less` sets `[hidden] { display: none; }`\n",
       "     but bootstrap.min.css set `[hidden] { display: none !important; }`\n",
       "     so we also need the `!important` here to be able to override the\n",
       "     default hidden behavior on the sphinx rendered scikit-learn.org.\n",
       "     See: https://github.com/scikit-learn/scikit-learn/issues/21755 */\n",
       "  display: inline-block !important;\n",
       "  position: relative;\n",
       "}\n",
       "\n",
       "#sk-container-id-1 div.sk-text-repr-fallback {\n",
       "  display: none;\n",
       "}\n",
       "\n",
       "div.sk-parallel-item,\n",
       "div.sk-serial,\n",
       "div.sk-item {\n",
       "  /* draw centered vertical line to link estimators */\n",
       "  background-image: linear-gradient(var(--sklearn-color-text-on-default-background), var(--sklearn-color-text-on-default-background));\n",
       "  background-size: 2px 100%;\n",
       "  background-repeat: no-repeat;\n",
       "  background-position: center center;\n",
       "}\n",
       "\n",
       "/* Parallel-specific style estimator block */\n",
       "\n",
       "#sk-container-id-1 div.sk-parallel-item::after {\n",
       "  content: \"\";\n",
       "  width: 100%;\n",
       "  border-bottom: 2px solid var(--sklearn-color-text-on-default-background);\n",
       "  flex-grow: 1;\n",
       "}\n",
       "\n",
       "#sk-container-id-1 div.sk-parallel {\n",
       "  display: flex;\n",
       "  align-items: stretch;\n",
       "  justify-content: center;\n",
       "  background-color: var(--sklearn-color-background);\n",
       "  position: relative;\n",
       "}\n",
       "\n",
       "#sk-container-id-1 div.sk-parallel-item {\n",
       "  display: flex;\n",
       "  flex-direction: column;\n",
       "}\n",
       "\n",
       "#sk-container-id-1 div.sk-parallel-item:first-child::after {\n",
       "  align-self: flex-end;\n",
       "  width: 50%;\n",
       "}\n",
       "\n",
       "#sk-container-id-1 div.sk-parallel-item:last-child::after {\n",
       "  align-self: flex-start;\n",
       "  width: 50%;\n",
       "}\n",
       "\n",
       "#sk-container-id-1 div.sk-parallel-item:only-child::after {\n",
       "  width: 0;\n",
       "}\n",
       "\n",
       "/* Serial-specific style estimator block */\n",
       "\n",
       "#sk-container-id-1 div.sk-serial {\n",
       "  display: flex;\n",
       "  flex-direction: column;\n",
       "  align-items: center;\n",
       "  background-color: var(--sklearn-color-background);\n",
       "  padding-right: 1em;\n",
       "  padding-left: 1em;\n",
       "}\n",
       "\n",
       "\n",
       "/* Toggleable style: style used for estimator/Pipeline/ColumnTransformer box that is\n",
       "clickable and can be expanded/collapsed.\n",
       "- Pipeline and ColumnTransformer use this feature and define the default style\n",
       "- Estimators will overwrite some part of the style using the `sk-estimator` class\n",
       "*/\n",
       "\n",
       "/* Pipeline and ColumnTransformer style (default) */\n",
       "\n",
       "#sk-container-id-1 div.sk-toggleable {\n",
       "  /* Default theme specific background. It is overwritten whether we have a\n",
       "  specific estimator or a Pipeline/ColumnTransformer */\n",
       "  background-color: var(--sklearn-color-background);\n",
       "}\n",
       "\n",
       "/* Toggleable label */\n",
       "#sk-container-id-1 label.sk-toggleable__label {\n",
       "  cursor: pointer;\n",
       "  display: flex;\n",
       "  width: 100%;\n",
       "  margin-bottom: 0;\n",
       "  padding: 0.5em;\n",
       "  box-sizing: border-box;\n",
       "  text-align: center;\n",
       "  align-items: start;\n",
       "  justify-content: space-between;\n",
       "  gap: 0.5em;\n",
       "}\n",
       "\n",
       "#sk-container-id-1 label.sk-toggleable__label .caption {\n",
       "  font-size: 0.6rem;\n",
       "  font-weight: lighter;\n",
       "  color: var(--sklearn-color-text-muted);\n",
       "}\n",
       "\n",
       "#sk-container-id-1 label.sk-toggleable__label-arrow:before {\n",
       "  /* Arrow on the left of the label */\n",
       "  content: \"▸\";\n",
       "  float: left;\n",
       "  margin-right: 0.25em;\n",
       "  color: var(--sklearn-color-icon);\n",
       "}\n",
       "\n",
       "#sk-container-id-1 label.sk-toggleable__label-arrow:hover:before {\n",
       "  color: var(--sklearn-color-text);\n",
       "}\n",
       "\n",
       "/* Toggleable content - dropdown */\n",
       "\n",
       "#sk-container-id-1 div.sk-toggleable__content {\n",
       "  max-height: 0;\n",
       "  max-width: 0;\n",
       "  overflow: hidden;\n",
       "  text-align: left;\n",
       "  /* unfitted */\n",
       "  background-color: var(--sklearn-color-unfitted-level-0);\n",
       "}\n",
       "\n",
       "#sk-container-id-1 div.sk-toggleable__content.fitted {\n",
       "  /* fitted */\n",
       "  background-color: var(--sklearn-color-fitted-level-0);\n",
       "}\n",
       "\n",
       "#sk-container-id-1 div.sk-toggleable__content pre {\n",
       "  margin: 0.2em;\n",
       "  border-radius: 0.25em;\n",
       "  color: var(--sklearn-color-text);\n",
       "  /* unfitted */\n",
       "  background-color: var(--sklearn-color-unfitted-level-0);\n",
       "}\n",
       "\n",
       "#sk-container-id-1 div.sk-toggleable__content.fitted pre {\n",
       "  /* unfitted */\n",
       "  background-color: var(--sklearn-color-fitted-level-0);\n",
       "}\n",
       "\n",
       "#sk-container-id-1 input.sk-toggleable__control:checked~div.sk-toggleable__content {\n",
       "  /* Expand drop-down */\n",
       "  max-height: 200px;\n",
       "  max-width: 100%;\n",
       "  overflow: auto;\n",
       "}\n",
       "\n",
       "#sk-container-id-1 input.sk-toggleable__control:checked~label.sk-toggleable__label-arrow:before {\n",
       "  content: \"▾\";\n",
       "}\n",
       "\n",
       "/* Pipeline/ColumnTransformer-specific style */\n",
       "\n",
       "#sk-container-id-1 div.sk-label input.sk-toggleable__control:checked~label.sk-toggleable__label {\n",
       "  color: var(--sklearn-color-text);\n",
       "  background-color: var(--sklearn-color-unfitted-level-2);\n",
       "}\n",
       "\n",
       "#sk-container-id-1 div.sk-label.fitted input.sk-toggleable__control:checked~label.sk-toggleable__label {\n",
       "  background-color: var(--sklearn-color-fitted-level-2);\n",
       "}\n",
       "\n",
       "/* Estimator-specific style */\n",
       "\n",
       "/* Colorize estimator box */\n",
       "#sk-container-id-1 div.sk-estimator input.sk-toggleable__control:checked~label.sk-toggleable__label {\n",
       "  /* unfitted */\n",
       "  background-color: var(--sklearn-color-unfitted-level-2);\n",
       "}\n",
       "\n",
       "#sk-container-id-1 div.sk-estimator.fitted input.sk-toggleable__control:checked~label.sk-toggleable__label {\n",
       "  /* fitted */\n",
       "  background-color: var(--sklearn-color-fitted-level-2);\n",
       "}\n",
       "\n",
       "#sk-container-id-1 div.sk-label label.sk-toggleable__label,\n",
       "#sk-container-id-1 div.sk-label label {\n",
       "  /* The background is the default theme color */\n",
       "  color: var(--sklearn-color-text-on-default-background);\n",
       "}\n",
       "\n",
       "/* On hover, darken the color of the background */\n",
       "#sk-container-id-1 div.sk-label:hover label.sk-toggleable__label {\n",
       "  color: var(--sklearn-color-text);\n",
       "  background-color: var(--sklearn-color-unfitted-level-2);\n",
       "}\n",
       "\n",
       "/* Label box, darken color on hover, fitted */\n",
       "#sk-container-id-1 div.sk-label.fitted:hover label.sk-toggleable__label.fitted {\n",
       "  color: var(--sklearn-color-text);\n",
       "  background-color: var(--sklearn-color-fitted-level-2);\n",
       "}\n",
       "\n",
       "/* Estimator label */\n",
       "\n",
       "#sk-container-id-1 div.sk-label label {\n",
       "  font-family: monospace;\n",
       "  font-weight: bold;\n",
       "  display: inline-block;\n",
       "  line-height: 1.2em;\n",
       "}\n",
       "\n",
       "#sk-container-id-1 div.sk-label-container {\n",
       "  text-align: center;\n",
       "}\n",
       "\n",
       "/* Estimator-specific */\n",
       "#sk-container-id-1 div.sk-estimator {\n",
       "  font-family: monospace;\n",
       "  border: 1px dotted var(--sklearn-color-border-box);\n",
       "  border-radius: 0.25em;\n",
       "  box-sizing: border-box;\n",
       "  margin-bottom: 0.5em;\n",
       "  /* unfitted */\n",
       "  background-color: var(--sklearn-color-unfitted-level-0);\n",
       "}\n",
       "\n",
       "#sk-container-id-1 div.sk-estimator.fitted {\n",
       "  /* fitted */\n",
       "  background-color: var(--sklearn-color-fitted-level-0);\n",
       "}\n",
       "\n",
       "/* on hover */\n",
       "#sk-container-id-1 div.sk-estimator:hover {\n",
       "  /* unfitted */\n",
       "  background-color: var(--sklearn-color-unfitted-level-2);\n",
       "}\n",
       "\n",
       "#sk-container-id-1 div.sk-estimator.fitted:hover {\n",
       "  /* fitted */\n",
       "  background-color: var(--sklearn-color-fitted-level-2);\n",
       "}\n",
       "\n",
       "/* Specification for estimator info (e.g. \"i\" and \"?\") */\n",
       "\n",
       "/* Common style for \"i\" and \"?\" */\n",
       "\n",
       ".sk-estimator-doc-link,\n",
       "a:link.sk-estimator-doc-link,\n",
       "a:visited.sk-estimator-doc-link {\n",
       "  float: right;\n",
       "  font-size: smaller;\n",
       "  line-height: 1em;\n",
       "  font-family: monospace;\n",
       "  background-color: var(--sklearn-color-background);\n",
       "  border-radius: 1em;\n",
       "  height: 1em;\n",
       "  width: 1em;\n",
       "  text-decoration: none !important;\n",
       "  margin-left: 0.5em;\n",
       "  text-align: center;\n",
       "  /* unfitted */\n",
       "  border: var(--sklearn-color-unfitted-level-1) 1pt solid;\n",
       "  color: var(--sklearn-color-unfitted-level-1);\n",
       "}\n",
       "\n",
       ".sk-estimator-doc-link.fitted,\n",
       "a:link.sk-estimator-doc-link.fitted,\n",
       "a:visited.sk-estimator-doc-link.fitted {\n",
       "  /* fitted */\n",
       "  border: var(--sklearn-color-fitted-level-1) 1pt solid;\n",
       "  color: var(--sklearn-color-fitted-level-1);\n",
       "}\n",
       "\n",
       "/* On hover */\n",
       "div.sk-estimator:hover .sk-estimator-doc-link:hover,\n",
       ".sk-estimator-doc-link:hover,\n",
       "div.sk-label-container:hover .sk-estimator-doc-link:hover,\n",
       ".sk-estimator-doc-link:hover {\n",
       "  /* unfitted */\n",
       "  background-color: var(--sklearn-color-unfitted-level-3);\n",
       "  color: var(--sklearn-color-background);\n",
       "  text-decoration: none;\n",
       "}\n",
       "\n",
       "div.sk-estimator.fitted:hover .sk-estimator-doc-link.fitted:hover,\n",
       ".sk-estimator-doc-link.fitted:hover,\n",
       "div.sk-label-container:hover .sk-estimator-doc-link.fitted:hover,\n",
       ".sk-estimator-doc-link.fitted:hover {\n",
       "  /* fitted */\n",
       "  background-color: var(--sklearn-color-fitted-level-3);\n",
       "  color: var(--sklearn-color-background);\n",
       "  text-decoration: none;\n",
       "}\n",
       "\n",
       "/* Span, style for the box shown on hovering the info icon */\n",
       ".sk-estimator-doc-link span {\n",
       "  display: none;\n",
       "  z-index: 9999;\n",
       "  position: relative;\n",
       "  font-weight: normal;\n",
       "  right: .2ex;\n",
       "  padding: .5ex;\n",
       "  margin: .5ex;\n",
       "  width: min-content;\n",
       "  min-width: 20ex;\n",
       "  max-width: 50ex;\n",
       "  color: var(--sklearn-color-text);\n",
       "  box-shadow: 2pt 2pt 4pt #999;\n",
       "  /* unfitted */\n",
       "  background: var(--sklearn-color-unfitted-level-0);\n",
       "  border: .5pt solid var(--sklearn-color-unfitted-level-3);\n",
       "}\n",
       "\n",
       ".sk-estimator-doc-link.fitted span {\n",
       "  /* fitted */\n",
       "  background: var(--sklearn-color-fitted-level-0);\n",
       "  border: var(--sklearn-color-fitted-level-3);\n",
       "}\n",
       "\n",
       ".sk-estimator-doc-link:hover span {\n",
       "  display: block;\n",
       "}\n",
       "\n",
       "/* \"?\"-specific style due to the `<a>` HTML tag */\n",
       "\n",
       "#sk-container-id-1 a.estimator_doc_link {\n",
       "  float: right;\n",
       "  font-size: 1rem;\n",
       "  line-height: 1em;\n",
       "  font-family: monospace;\n",
       "  background-color: var(--sklearn-color-background);\n",
       "  border-radius: 1rem;\n",
       "  height: 1rem;\n",
       "  width: 1rem;\n",
       "  text-decoration: none;\n",
       "  /* unfitted */\n",
       "  color: var(--sklearn-color-unfitted-level-1);\n",
       "  border: var(--sklearn-color-unfitted-level-1) 1pt solid;\n",
       "}\n",
       "\n",
       "#sk-container-id-1 a.estimator_doc_link.fitted {\n",
       "  /* fitted */\n",
       "  border: var(--sklearn-color-fitted-level-1) 1pt solid;\n",
       "  color: var(--sklearn-color-fitted-level-1);\n",
       "}\n",
       "\n",
       "/* On hover */\n",
       "#sk-container-id-1 a.estimator_doc_link:hover {\n",
       "  /* unfitted */\n",
       "  background-color: var(--sklearn-color-unfitted-level-3);\n",
       "  color: var(--sklearn-color-background);\n",
       "  text-decoration: none;\n",
       "}\n",
       "\n",
       "#sk-container-id-1 a.estimator_doc_link.fitted:hover {\n",
       "  /* fitted */\n",
       "  background-color: var(--sklearn-color-fitted-level-3);\n",
       "}\n",
       "</style><div id=\"sk-container-id-1\" class=\"sk-top-container\"><div class=\"sk-text-repr-fallback\"><pre>IsolationForest(contamination=0.0196078431372549, max_features=10,\n",
       "                max_samples=256, random_state=42)</pre><b>In a Jupyter environment, please rerun this cell to show the HTML representation or trust the notebook. <br />On GitHub, the HTML representation is unable to render, please try loading this page with nbviewer.org.</b></div><div class=\"sk-container\" hidden><div class=\"sk-item\"><div class=\"sk-estimator fitted sk-toggleable\"><input class=\"sk-toggleable__control sk-hidden--visually\" id=\"sk-estimator-id-1\" type=\"checkbox\" checked><label for=\"sk-estimator-id-1\" class=\"sk-toggleable__label fitted sk-toggleable__label-arrow\"><div><div>IsolationForest</div></div><div><a class=\"sk-estimator-doc-link fitted\" rel=\"noreferrer\" target=\"_blank\" href=\"https://scikit-learn.org/1.6/modules/generated/sklearn.ensemble.IsolationForest.html\">?<span>Documentation for IsolationForest</span></a><span class=\"sk-estimator-doc-link fitted\">i<span>Fitted</span></span></div></label><div class=\"sk-toggleable__content fitted\"><pre>IsolationForest(contamination=0.0196078431372549, max_features=10,\n",
       "                max_samples=256, random_state=42)</pre></div> </div></div></div></div>"
      ],
      "text/plain": [
       "IsolationForest(contamination=0.0196078431372549, max_features=10,\n",
       "                max_samples=256, random_state=42)"
      ]
     },
     "execution_count": 41,
     "metadata": {},
     "output_type": "execute_result"
    }
   ],
   "source": [
    "isolation_forest = IsolationForest(\n",
    "    n_estimators=100,\n",
    "    max_samples=256,\n",
    "    contamination=20/1020,\n",
    "    max_features=all_data_train.shape[1],\n",
    "    random_state=42\n",
    ")\n",
    "isolation_forest.fit(all_data_train)"
   ]
  },
  {
   "cell_type": "code",
   "execution_count": 42,
   "metadata": {},
   "outputs": [
    {
     "name": "stdout",
     "output_type": "stream",
     "text": [
      "[-1 -1  1  1 -1  1 -1 -1 -1 -1 -1  1 -1 -1  1 -1 -1 -1 -1  1 -1 -1 -1 -1\n",
      " -1 -1  1  1 -1 -1 -1  1 -1 -1 -1 -1 -1  1 -1  1  1  1 -1 -1 -1 -1  1  1\n",
      "  1 -1 -1 -1 -1  1  1 -1  1  1  1 -1 -1 -1 -1 -1 -1  1  1 -1 -1 -1  1 -1\n",
      "  1  1  1  1 -1 -1  1 -1 -1 -1 -1 -1 -1 -1 -1  1  1 -1  1 -1  1  1 -1 -1\n",
      "  1  1 -1  1]\n"
     ]
    }
   ],
   "source": [
    "pred_forest = isolation_forest.predict(all_data)\n",
    "\n",
    "print(pred_forest[5000:5100])"
   ]
  },
  {
   "cell_type": "code",
   "execution_count": 43,
   "metadata": {},
   "outputs": [
    {
     "data": {
      "text/plain": [
       "array([[4977,   23],\n",
       "       [  37,   63]])"
      ]
     },
     "execution_count": 43,
     "metadata": {},
     "output_type": "execute_result"
    }
   ],
   "source": [
    "label_pred_forest = np.where(pred_forest > 0, 0, 1)\n",
    "\n",
    "confusion_matrix(label_true, label_pred_forest)"
   ]
  },
  {
   "cell_type": "code",
   "execution_count": 44,
   "metadata": {},
   "outputs": [
    {
     "data": {
      "text/plain": [
       "0.9882352941176471"
      ]
     },
     "execution_count": 44,
     "metadata": {},
     "output_type": "execute_result"
    }
   ],
   "source": [
    "accuracy_score(label_true, label_pred_forest)"
   ]
  },
  {
   "cell_type": "markdown",
   "metadata": {},
   "source": [
    "# Висновки\n",
    "\n",
    "* Метод підпростору (LOF із баггінгом ознак) дав вищу точність і кращу збалансованість TP/FN порівняно з одиночним LOF на всіх ознаках, оскільки баггінг зменшує шум і фокусує модель на різних підмножинах характеристик.\n",
    "* Isolation Forest, навчені на меншому train-підмножині (1020 точок), показали трохи гіршу точність і більше пропущених аномалій, ніж коли їх навчали на всіх даних, через меншу кількість тренувального набору.\n",
    "* LOF з підпростором краще виявляє локальні відхилення завдяки різноманітності підмоделей, а ізоляційний ліс більше залежить від обсягу та репрезентативності тренувальних даних.\n",
    "* Отже, баггінг ознак підвищує стабільність і чутливість LOF-моделі, тоді як Isolation Forest потребує достатньо велике і репрезентативне train-підмножина, щоб досягти подібної якості."
   ]
  }
 ],
 "metadata": {
  "kernelspec": {
   "display_name": "anomaly_detection",
   "language": "python",
   "name": "python3"
  },
  "language_info": {
   "codemirror_mode": {
    "name": "ipython",
    "version": 3
   },
   "file_extension": ".py",
   "mimetype": "text/x-python",
   "name": "python",
   "nbconvert_exporter": "python",
   "pygments_lexer": "ipython3",
   "version": "3.12.6"
  }
 },
 "nbformat": 4,
 "nbformat_minor": 2
}
